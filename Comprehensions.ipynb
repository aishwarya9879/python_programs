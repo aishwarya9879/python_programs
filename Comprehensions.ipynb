{
 "cells": [
  {
   "cell_type": "code",
   "execution_count": 1,
   "metadata": {
    "collapsed": false
   },
   "outputs": [
    {
     "data": {
      "text/plain": [
       "[[1.0, 1.0], [2.0, 2.8284271247461903], [3.0, 5.196152422706632], [4.0, 8.0]]"
      ]
     },
     "execution_count": 1,
     "metadata": {},
     "output_type": "execute_result"
    }
   ],
   "source": [
    "import numpy as np\n",
    "\n",
    "a =[[0,0],\n",
    "   [1,1],\n",
    "    [4,8],\n",
    "   [9,27],\n",
    "   [16,64]\n",
    "   ]\n",
    "\n",
    "output = []\n",
    "\n",
    "for num_list in a:\n",
    "    \n",
    "    internal_list =[]\n",
    "    \n",
    "    if not 0 in num_list:\n",
    "        for num in  num_list:\n",
    "            internal_list.append(np.sqrt(num))\n",
    "            \n",
    "        output.append(internal_list)\n",
    "\n",
    "output"
   ]
  },
  {
   "cell_type": "code",
   "execution_count": 2,
   "metadata": {
    "collapsed": true
   },
   "outputs": [],
   "source": [
    "def square_rooter(num_list):\n",
    "    return [np.sqrt(num) for num in num_list]\n",
    "\n",
    "lc= [\n",
    "    square_rooter(num_list)\n",
    "    for num_list in a \n",
    "    if not 0 in num_list\n",
    "]"
   ]
  },
  {
   "cell_type": "code",
   "execution_count": 3,
   "metadata": {
    "collapsed": false
   },
   "outputs": [
    {
     "data": {
      "text/plain": [
       "[[1.0, 1.0], [2.0, 2.8284271247461903], [3.0, 5.196152422706632], [4.0, 8.0]]"
      ]
     },
     "execution_count": 3,
     "metadata": {},
     "output_type": "execute_result"
    }
   ],
   "source": [
    "lc"
   ]
  },
  {
   "cell_type": "code",
   "execution_count": null,
   "metadata": {
    "collapsed": true
   },
   "outputs": [],
   "source": []
  }
 ],
 "metadata": {
  "kernelspec": {
   "display_name": "Python [conda root]",
   "language": "python",
   "name": "conda-root-py"
  },
  "language_info": {
   "codemirror_mode": {
    "name": "ipython",
    "version": 2
   },
   "file_extension": ".py",
   "mimetype": "text/x-python",
   "name": "python",
   "nbconvert_exporter": "python",
   "pygments_lexer": "ipython2",
   "version": "2.7.12"
  }
 },
 "nbformat": 4,
 "nbformat_minor": 2
}
