{
 "cells": [
  {
   "cell_type": "code",
   "execution_count": 1,
   "metadata": {
    "collapsed": true
   },
   "outputs": [],
   "source": [
    "with open('/Users/aishwaryachinnari/DSI-SF-3/datasets/coffee_preferences/dat12-coffee-preferences.csv','r')as f:\n",
    "    lines = f.readlines()"
   ]
  },
  {
   "cell_type": "code",
   "execution_count": 2,
   "metadata": {
    "collapsed": false
   },
   "outputs": [
    {
     "data": {
      "text/plain": [
       "['Timestamp,Name,Starbucks,PhilzCoffee,BlueBottleCoffee,PeetsTea,CaffeTrieste,GrandCoffee,RitualCoffee,FourBarrel,WorkshopCafe\\n',\n",
       " '3/17/2015 18:37:58,Alison,3,5,4,3,,,5,5,\\n',\n",
       " '3/17/2015 18:38:09,April,4,5,5,3,,,3,,5\\n',\n",
       " '3/17/2015 18:38:25,Vijay,3,5,5,5,3,2,1,1,1\\n',\n",
       " '3/17/2015 18:38:28,Vanessa,1,5,5,2,,,3,2,3\\n',\n",
       " '3/17/2015 18:38:46,Isabel,1,4,4,2,4,,4,4,\\n',\n",
       " '3/17/2015 18:39:01,India,5,3,3,3,3,1,,,3\\n',\n",
       " '3/17/2015 18:39:01,Dave H,4,5,,5,,,,,\\n',\n",
       " '3/17/2015 18:39:05,Deepthi,3,5,,2,,,,,2\\n',\n",
       " '3/17/2015 18:39:14,Ramesh,3,4,,3,,,,,4\\n',\n",
       " '3/17/2015 18:39:23,Hugh Jass,1,5,5,4,5,2,5,4,1\\n',\n",
       " '3/17/2015 18:39:23,Alex,4,5,,3,,,,,\\n',\n",
       " '3/17/2015 18:39:30,Ajay Anand,3,4,4,3,5,,,,\\n',\n",
       " '3/17/2015 18:39:35,David Feng,2,3,4,2,2,,5,4,3\\n',\n",
       " '3/17/2015 18:39:42,Zach,3,4,4,3,,,,,5\\n',\n",
       " '3/17/2015 18:40:44,Matt,3,5,4,3,2,2,4,3,2\\n',\n",
       " '3/17/2015 18:40:49,Markus,3,5,,3,,,4,,\\n',\n",
       " '3/17/2015 18:41:18,Otto,4,2,2,5,,,3,3,3\\n',\n",
       " '3/17/2015 18:41:23,Alessandro,1,5,3,2,,,4,3,\\n',\n",
       " '3/17/2015 18:41:35,Rocky,3,5,4,3,3,3,4,4,3\\n',\n",
       " '3/17/2015 18:42:01,cheong-tseng eng,3,1,,,,,4,,']"
      ]
     },
     "execution_count": 2,
     "metadata": {},
     "output_type": "execute_result"
    }
   ],
   "source": [
    "lines"
   ]
  },
  {
   "cell_type": "code",
   "execution_count": 4,
   "metadata": {
    "collapsed": false
   },
   "outputs": [],
   "source": [
    "# for-loop\n",
    "new_lines = []\n",
    "for line in lines:\n",
    "    new_lines.append(line.replace('\\n', ''))"
   ]
  },
  {
   "cell_type": "code",
   "execution_count": 5,
   "metadata": {
    "collapsed": false
   },
   "outputs": [
    {
     "data": {
      "text/plain": [
       "['Timestamp,Name,Starbucks,PhilzCoffee,BlueBottleCoffee,PeetsTea,CaffeTrieste,GrandCoffee,RitualCoffee,FourBarrel,WorkshopCafe',\n",
       " '3/17/2015 18:37:58,Alison,3,5,4,3,,,5,5,',\n",
       " '3/17/2015 18:38:09,April,4,5,5,3,,,3,,5',\n",
       " '3/17/2015 18:38:25,Vijay,3,5,5,5,3,2,1,1,1',\n",
       " '3/17/2015 18:38:28,Vanessa,1,5,5,2,,,3,2,3',\n",
       " '3/17/2015 18:38:46,Isabel,1,4,4,2,4,,4,4,',\n",
       " '3/17/2015 18:39:01,India,5,3,3,3,3,1,,,3',\n",
       " '3/17/2015 18:39:01,Dave H,4,5,,5,,,,,',\n",
       " '3/17/2015 18:39:05,Deepthi,3,5,,2,,,,,2',\n",
       " '3/17/2015 18:39:14,Ramesh,3,4,,3,,,,,4',\n",
       " '3/17/2015 18:39:23,Hugh Jass,1,5,5,4,5,2,5,4,1',\n",
       " '3/17/2015 18:39:23,Alex,4,5,,3,,,,,',\n",
       " '3/17/2015 18:39:30,Ajay Anand,3,4,4,3,5,,,,',\n",
       " '3/17/2015 18:39:35,David Feng,2,3,4,2,2,,5,4,3',\n",
       " '3/17/2015 18:39:42,Zach,3,4,4,3,,,,,5',\n",
       " '3/17/2015 18:40:44,Matt,3,5,4,3,2,2,4,3,2',\n",
       " '3/17/2015 18:40:49,Markus,3,5,,3,,,4,,',\n",
       " '3/17/2015 18:41:18,Otto,4,2,2,5,,,3,3,3',\n",
       " '3/17/2015 18:41:23,Alessandro,1,5,3,2,,,4,3,',\n",
       " '3/17/2015 18:41:35,Rocky,3,5,4,3,3,3,4,4,3',\n",
       " '3/17/2015 18:42:01,cheong-tseng eng,3,1,,,,,4,,']"
      ]
     },
     "execution_count": 5,
     "metadata": {},
     "output_type": "execute_result"
    }
   ],
   "source": [
    "new_lines"
   ]
  },
  {
   "cell_type": "code",
   "execution_count": 6,
   "metadata": {
    "collapsed": true
   },
   "outputs": [],
   "source": [
    "header = new_lines[0]\n",
    "data =new_lines[1:]"
   ]
  },
  {
   "cell_type": "code",
   "execution_count": 7,
   "metadata": {
    "collapsed": false
   },
   "outputs": [
    {
     "data": {
      "text/plain": [
       "'Timestamp,Name,Starbucks,PhilzCoffee,BlueBottleCoffee,PeetsTea,CaffeTrieste,GrandCoffee,RitualCoffee,FourBarrel,WorkshopCafe'"
      ]
     },
     "execution_count": 7,
     "metadata": {},
     "output_type": "execute_result"
    }
   ],
   "source": [
    "header"
   ]
  },
  {
   "cell_type": "code",
   "execution_count": 8,
   "metadata": {
    "collapsed": false
   },
   "outputs": [
    {
     "data": {
      "text/plain": [
       "['3/17/2015 18:37:58,Alison,3,5,4,3,,,5,5,',\n",
       " '3/17/2015 18:38:09,April,4,5,5,3,,,3,,5',\n",
       " '3/17/2015 18:38:25,Vijay,3,5,5,5,3,2,1,1,1',\n",
       " '3/17/2015 18:38:28,Vanessa,1,5,5,2,,,3,2,3',\n",
       " '3/17/2015 18:38:46,Isabel,1,4,4,2,4,,4,4,',\n",
       " '3/17/2015 18:39:01,India,5,3,3,3,3,1,,,3',\n",
       " '3/17/2015 18:39:01,Dave H,4,5,,5,,,,,',\n",
       " '3/17/2015 18:39:05,Deepthi,3,5,,2,,,,,2',\n",
       " '3/17/2015 18:39:14,Ramesh,3,4,,3,,,,,4',\n",
       " '3/17/2015 18:39:23,Hugh Jass,1,5,5,4,5,2,5,4,1',\n",
       " '3/17/2015 18:39:23,Alex,4,5,,3,,,,,',\n",
       " '3/17/2015 18:39:30,Ajay Anand,3,4,4,3,5,,,,',\n",
       " '3/17/2015 18:39:35,David Feng,2,3,4,2,2,,5,4,3',\n",
       " '3/17/2015 18:39:42,Zach,3,4,4,3,,,,,5',\n",
       " '3/17/2015 18:40:44,Matt,3,5,4,3,2,2,4,3,2',\n",
       " '3/17/2015 18:40:49,Markus,3,5,,3,,,4,,',\n",
       " '3/17/2015 18:41:18,Otto,4,2,2,5,,,3,3,3',\n",
       " '3/17/2015 18:41:23,Alessandro,1,5,3,2,,,4,3,',\n",
       " '3/17/2015 18:41:35,Rocky,3,5,4,3,3,3,4,4,3',\n",
       " '3/17/2015 18:42:01,cheong-tseng eng,3,1,,,,,4,,']"
      ]
     },
     "execution_count": 8,
     "metadata": {},
     "output_type": "execute_result"
    }
   ],
   "source": [
    "data"
   ]
  },
  {
   "cell_type": "code",
   "execution_count": 9,
   "metadata": {
    "collapsed": false
   },
   "outputs": [
    {
     "name": "stdout",
     "output_type": "stream",
     "text": [
      "3/17/2015 18:37:58,Alison,3,5,4,3,,,5,5,\n",
      "<type 'str'>\n"
     ]
    }
   ],
   "source": [
    "#header and the data strings on commas\n",
    "\n",
    "first_row =data[0]\n",
    "print first_row\n",
    "print type(first_row)"
   ]
  },
  {
   "cell_type": "code",
   "execution_count": 10,
   "metadata": {
    "collapsed": false
   },
   "outputs": [
    {
     "name": "stdout",
     "output_type": "stream",
     "text": [
      "['3/17/2015 18:37:58', 'Alison', '3', '5', '4', '3', '', '', '5', '5', '']\n",
      "['3/17/2015 18:38:09', 'April', '4', '5', '5', '3', '', '', '3', '', '5']\n",
      "11 11\n"
     ]
    }
   ],
   "source": [
    "second_row =data[1]\n",
    "row1 =first_row.split(',')\n",
    "row2 = second_row.split(',')\n",
    "\n",
    "print row1\n",
    "print row2\n",
    "print len(row1),len(row2)"
   ]
  },
  {
   "cell_type": "code",
   "execution_count": 11,
   "metadata": {
    "collapsed": true
   },
   "outputs": [],
   "source": [
    "header = header.split(',')"
   ]
  },
  {
   "cell_type": "code",
   "execution_count": 12,
   "metadata": {
    "collapsed": true
   },
   "outputs": [],
   "source": [
    "new_data=[]\n",
    "for row_string in data:\n",
    "    row_list = row_string.split(',')\n",
    "    new_data.append(row_list)\n",
    "    "
   ]
  },
  {
   "cell_type": "code",
   "execution_count": 13,
   "metadata": {
    "collapsed": false
   },
   "outputs": [
    {
     "data": {
      "text/plain": [
       "'Isabel'"
      ]
     },
     "execution_count": 13,
     "metadata": {},
     "output_type": "execute_result"
    }
   ],
   "source": [
    "new_data[4][1]"
   ]
  },
  {
   "cell_type": "code",
   "execution_count": 14,
   "metadata": {
    "collapsed": true
   },
   "outputs": [],
   "source": [
    "# Remove \"Timestamp\" column"
   ]
  },
  {
   "cell_type": "code",
   "execution_count": 16,
   "metadata": {
    "collapsed": false
   },
   "outputs": [
    {
     "data": {
      "text/plain": [
       "[['Alison', '3', '5', '4', '3', '', '', '5', '5', ''],\n",
       " ['April', '4', '5', '5', '3', '', '', '3', '', '5'],\n",
       " ['Vijay', '3', '5', '5', '5', '3', '2', '1', '1', '1'],\n",
       " ['Vanessa', '1', '5', '5', '2', '', '', '3', '2', '3'],\n",
       " ['Isabel', '1', '4', '4', '2', '4', '', '4', '4', ''],\n",
       " ['India', '5', '3', '3', '3', '3', '1', '', '', '3'],\n",
       " ['Dave H', '4', '5', '', '5', '', '', '', '', ''],\n",
       " ['Deepthi', '3', '5', '', '2', '', '', '', '', '2'],\n",
       " ['Ramesh', '3', '4', '', '3', '', '', '', '', '4'],\n",
       " ['Hugh Jass', '1', '5', '5', '4', '5', '2', '5', '4', '1'],\n",
       " ['Alex', '4', '5', '', '3', '', '', '', '', ''],\n",
       " ['Ajay Anand', '3', '4', '4', '3', '5', '', '', '', ''],\n",
       " ['David Feng', '2', '3', '4', '2', '2', '', '5', '4', '3'],\n",
       " ['Zach', '3', '4', '4', '3', '', '', '', '', '5'],\n",
       " ['Matt', '3', '5', '4', '3', '2', '2', '4', '3', '2'],\n",
       " ['Markus', '3', '5', '', '3', '', '', '4', '', ''],\n",
       " ['Otto', '4', '2', '2', '5', '', '', '3', '3', '3'],\n",
       " ['Alessandro', '1', '5', '3', '2', '', '', '4', '3', ''],\n",
       " ['Rocky', '3', '5', '4', '3', '3', '3', '4', '4', '3'],\n",
       " ['cheong-tseng eng', '3', '1', '', '', '', '', '4', '', '']]"
      ]
     },
     "execution_count": 16,
     "metadata": {},
     "output_type": "execute_result"
    }
   ],
   "source": [
    "header = header[1:]\n",
    "data_nots =[]\n",
    "for row in new_data:\n",
    "    data_nots.append(row[1:])\n",
    "    \n",
    "data_nots"
   ]
  },
  {
   "cell_type": "code",
   "execution_count": 21,
   "metadata": {
    "collapsed": false
   },
   "outputs": [
    {
     "data": {
      "text/plain": [
       "27"
      ]
     },
     "execution_count": 21,
     "metadata": {},
     "output_type": "execute_result"
    }
   ],
   "source": [
    "# numeric coluns to float and empty fields to None\n",
    "a=[1,2,3]\n",
    "b=['a','b','c']\n",
    "c=[8,9,0]\n",
    "\n",
    "counter =0\n",
    "for a_item in a:\n",
    "    for b_item in b:\n",
    "        for c_item in c:\n",
    "            counter +=1\n",
    "counter\n",
    "a_list_size =len(a)\n",
    "b_list_size=len(b)\n",
    "c_list_size=len(c)\n",
    "a_list_size*b_list_size*c_list_size\n"
   ]
  },
  {
   "cell_type": "code",
   "execution_count": 40,
   "metadata": {
    "collapsed": false
   },
   "outputs": [],
   "source": [
    "parsed_data =[]\n",
    "\n",
    "for row in data_nots:\n",
    "    new_row =[]\n",
    "    for cell in row:\n",
    "        try:\n",
    "            cell =float(cell)\n",
    "        except:\n",
    "            if cell =='':\n",
    "                cell= None\n",
    "        new_row.append(cell)\n",
    "    parsed_data.append(new_row)"
   ]
  },
  {
   "cell_type": "code",
   "execution_count": 41,
   "metadata": {
    "collapsed": false
   },
   "outputs": [
    {
     "data": {
      "text/plain": [
       "[['Alison', 3.0, 5.0, 4.0, 3.0, None, None, 5.0, 5.0, None],\n",
       " ['April', 4.0, 5.0, 5.0, 3.0, None, None, 3.0, None, 5.0],\n",
       " ['Vijay', 3.0, 5.0, 5.0, 5.0, 3.0, 2.0, 1.0, 1.0, 1.0],\n",
       " ['Vanessa', 1.0, 5.0, 5.0, 2.0, None, None, 3.0, 2.0, 3.0],\n",
       " ['Isabel', 1.0, 4.0, 4.0, 2.0, 4.0, None, 4.0, 4.0, None],\n",
       " ['India', 5.0, 3.0, 3.0, 3.0, 3.0, 1.0, None, None, 3.0],\n",
       " ['Dave H', 4.0, 5.0, None, 5.0, None, None, None, None, None],\n",
       " ['Deepthi', 3.0, 5.0, None, 2.0, None, None, None, None, 2.0],\n",
       " ['Ramesh', 3.0, 4.0, None, 3.0, None, None, None, None, 4.0],\n",
       " ['Hugh Jass', 1.0, 5.0, 5.0, 4.0, 5.0, 2.0, 5.0, 4.0, 1.0],\n",
       " ['Alex', 4.0, 5.0, None, 3.0, None, None, None, None, None],\n",
       " ['Ajay Anand', 3.0, 4.0, 4.0, 3.0, 5.0, None, None, None, None],\n",
       " ['David Feng', 2.0, 3.0, 4.0, 2.0, 2.0, None, 5.0, 4.0, 3.0],\n",
       " ['Zach', 3.0, 4.0, 4.0, 3.0, None, None, None, None, 5.0],\n",
       " ['Matt', 3.0, 5.0, 4.0, 3.0, 2.0, 2.0, 4.0, 3.0, 2.0],\n",
       " ['Markus', 3.0, 5.0, None, 3.0, None, None, 4.0, None, None],\n",
       " ['Otto', 4.0, 2.0, 2.0, 5.0, None, None, 3.0, 3.0, 3.0],\n",
       " ['Alessandro', 1.0, 5.0, 3.0, 2.0, None, None, 4.0, 3.0, None],\n",
       " ['Rocky', 3.0, 5.0, 4.0, 3.0, 3.0, 3.0, 4.0, 4.0, 3.0],\n",
       " ['cheong-tseng eng', 3.0, 1.0, None, None, None, None, 4.0, None, None]]"
      ]
     },
     "execution_count": 41,
     "metadata": {},
     "output_type": "execute_result"
    }
   ],
   "source": [
    "parsed_data"
   ]
  },
  {
   "cell_type": "code",
   "execution_count": 47,
   "metadata": {
    "collapsed": false
   },
   "outputs": [
    {
     "data": {
      "text/plain": [
       "{'Ajay Anand': 4,\n",
       " 'Alessandro': 3,\n",
       " 'Alex': 6,\n",
       " 'Alison': 3,\n",
       " 'April': 3,\n",
       " 'Dave H': 6,\n",
       " 'David Feng': 1,\n",
       " 'Deepthi': 5,\n",
       " 'Hugh Jass': 0,\n",
       " 'India': 2,\n",
       " 'Isabel': 2,\n",
       " 'Markus': 5,\n",
       " 'Matt': 0,\n",
       " 'Otto': 2,\n",
       " 'Ramesh': 5,\n",
       " 'Rocky': 0,\n",
       " 'Vanessa': 2,\n",
       " 'Vijay': 0,\n",
       " 'Zach': 4,\n",
       " 'cheong-tseng eng': 6}"
      ]
     },
     "execution_count": 47,
     "metadata": {},
     "output_type": "execute_result"
    }
   ],
   "source": [
    "# count None values per person\n",
    "nones_per_user={}\n",
    "\n",
    "for row in parsed_data:\n",
    "    name = row[0]\n",
    "    \n",
    "    none_counter = 0\n",
    "    for cell in row[1:]:\n",
    "        if cell == None:\n",
    "            none_counter +=1\n",
    "            \n",
    "        nones_per_user[name] = none_counter\n",
    "        \n",
    "nones_per_user"
   ]
  },
  {
   "cell_type": "code",
   "execution_count": 49,
   "metadata": {
    "collapsed": false
   },
   "outputs": [
    {
     "name": "stdout",
     "output_type": "stream",
     "text": [
      "column: 0 brand: Name\n",
      "column: 1 brand: Starbucks\n",
      "column: 2 brand: PhilzCoffee\n",
      "column: 3 brand: BlueBottleCoffee\n",
      "column: 4 brand: PeetsTea\n",
      "column: 5 brand: CaffeTrieste\n",
      "column: 6 brand: GrandCoffee\n",
      "column: 7 brand: RitualCoffee\n",
      "column: 8 brand: FourBarrel\n",
      "column: 9 brand: WorkshopCafe\n"
     ]
    }
   ],
   "source": [
    "# average rating per coffee brand\n",
    "for ind, name in enumerate(header):\n",
    "    print 'column:', ind, 'brand:',name"
   ]
  },
  {
   "cell_type": "code",
   "execution_count": 54,
   "metadata": {
    "collapsed": false
   },
   "outputs": [
    {
     "data": {
      "text/plain": [
       "{'BlueBottleCoffee': 4.0,\n",
       " 'CaffeTrieste': 3.375,\n",
       " 'FourBarrel': 3.3,\n",
       " 'GrandCoffee': 2.0,\n",
       " 'PeetsTea': 3.1052631578947367,\n",
       " 'PhilzCoffee': 4.25,\n",
       " 'RitualCoffee': 3.769230769230769,\n",
       " 'Starbucks': 2.85,\n",
       " 'WorkshopCafe': 2.9166666666666665}"
      ]
     },
     "execution_count": 54,
     "metadata": {},
     "output_type": "execute_result"
    }
   ],
   "source": [
    "average_ratings ={}\n",
    "\n",
    "for column_index, column_name in enumerate(header):\n",
    "    if column_index > 0:\n",
    "        \n",
    "        brand_ratings =[]\n",
    "        for row in parsed_data:\n",
    "            brand_cell = row[column_index]\n",
    "            if not brand_cell == None:  # if loop \n",
    "                brand_ratings.append(brand_cell)\n",
    "            \n",
    "        if len(brand_ratings) > 0:\n",
    "            average_rating = sum(brand_ratings)/len(brand_ratings)\n",
    "        else:\n",
    "            average_rating =None\n",
    "            \n",
    "        average_ratings[column_name] = average_rating\n",
    "average_ratings"
   ]
  },
  {
   "cell_type": "code",
   "execution_count": null,
   "metadata": {
    "collapsed": true
   },
   "outputs": [],
   "source": []
  }
 ],
 "metadata": {
  "kernelspec": {
   "display_name": "Python [conda root]",
   "language": "python",
   "name": "conda-root-py"
  },
  "language_info": {
   "codemirror_mode": {
    "name": "ipython",
    "version": 2
   },
   "file_extension": ".py",
   "mimetype": "text/x-python",
   "name": "python",
   "nbconvert_exporter": "python",
   "pygments_lexer": "ipython2",
   "version": "2.7.12"
  }
 },
 "nbformat": 4,
 "nbformat_minor": 2
}
