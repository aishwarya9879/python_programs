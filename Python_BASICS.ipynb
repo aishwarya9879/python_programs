{
 "cells": [
  {
   "cell_type": "markdown",
   "metadata": {},
   "source": [
    "### Counting Types\n",
    "Given a list of mixed input, implement a method that counts types of elements (given a list) and reports the quantity of items found in the input. Output can also be an object representation (ie: dictionary)."
   ]
  },
  {
   "cell_type": "code",
   "execution_count": 48,
   "metadata": {
    "collapsed": false,
    "scrolled": true
   },
   "outputs": [
    {
     "name": "stdout",
     "output_type": "stream",
     "text": [
      "Integer : 1\n",
      "String : 2\n",
      "Tuple : 1\n",
      "Dictonary : 1\n",
      "Boolean : 2\n",
      "Float : 1\n"
     ]
    }
   ],
   "source": [
    "def checking(input):\n",
    "    count_int = 0\n",
    "    count_str = 0\n",
    "    count_tuple = 0\n",
    "    count_dict = 0\n",
    "    count_bool = 0\n",
    "    count_float = 0\n",
    "    #print input\n",
    "    for temp in input:\n",
    "        #print temp\n",
    "        if type(temp) is int:\n",
    "            count_int = count_int +1\n",
    "            #print \"integer\"\n",
    "        elif type(temp) is str:\n",
    "            count_str = count_str +1\n",
    "            #print \"String\"\n",
    "        elif type(temp) is tuple:\n",
    "            count_tuple = count_tuple +1\n",
    "            #print \"Tuple\"\n",
    "        elif type(temp) is dict:\n",
    "            count_dict =count_dict +1\n",
    "            #print \"Dictionary\"\n",
    "        elif type(temp) is bool:\n",
    "            count_bool =count_bool +1\n",
    "           # print \"Boolean\"\n",
    "        elif type(temp) is float:\n",
    "            count_float = count_float +1\n",
    "           # print \"Float\"\n",
    "            \n",
    "    print 'Integer :',count_int\n",
    "    print 'String :', count_str\n",
    "    print 'Tuple :',count_tuple\n",
    "    print  'Dictonary :',count_dict\n",
    "    print 'Boolean :',count_bool\n",
    "    print 'Float :',count_float\n",
    "    \n",
    "checking([5, \"Foo\", (2, 4, 5, 100), {\"fox\": \"mammal\"}, False, True, 2.987, \"Bar\"])\n",
    "\n",
    "# k=5\n",
    "# type(k) is int\n",
    "# l = \"Foo\"\n",
    "# type(l) is str\n",
    "# m = (2, 4, 5, 100)\n",
    "# type(m) is tuple\n",
    "# n = {\"fox\": \"mammal\"}\n",
    "# type(n) is dict\n",
    "# o = False\n",
    "# type(o) is bool\n",
    "# p =  2.987\n",
    "# type(p) is float\n",
    "\n"
   ]
  },
  {
   "cell_type": "markdown",
   "metadata": {},
   "source": [
    "### Printing Max Type\n",
    "Given an list input of mixed element types (ie: example_input), print the most common type and count."
   ]
  },
  {
   "cell_type": "code",
   "execution_count": 44,
   "metadata": {
    "collapsed": false
   },
   "outputs": [
    {
     "name": "stdout",
     "output_type": "stream",
     "text": [
      "set([1, 2])\n"
     ]
    }
   ],
   "source": [
    "list= [1,6,4,2,1,2]\n",
    "max=0\n",
    "for i in list:\n",
    "    j = list.count(i)\n",
    "    if j > max:\n",
    "        max = j\n",
    "my_set = set()\n",
    "\n",
    "for h in list: # h = 1,h = 6, h= 4, h= 2, h= 1, h= 2\n",
    "    if list.count(h)  == 2: \n",
    "        my_set.add(h)\n",
    "        #print h  # it dosnt come,?,?,!,?,!\n",
    "print my_set\n",
    "\n"
   ]
  },
  {
   "cell_type": "code",
   "execution_count": 47,
   "metadata": {
    "collapsed": false
   },
   "outputs": [
    {
     "name": "stdout",
     "output_type": "stream",
     "text": [
      "String : 2\n",
      "Boolean : 2\n"
     ]
    }
   ],
   "source": [
    "def checking(input):\n",
    "    count_int = 0\n",
    "    count_str = 0\n",
    "    count_tuple = 0\n",
    "    count_dict = 0\n",
    "    count_bool = 0\n",
    "    count_float = 0\n",
    "    #print input\n",
    "    for temp in input:\n",
    "        #print temp\n",
    "        if type(temp) is int:\n",
    "            count_int = count_int +1\n",
    "            #print \"integer\"\n",
    "        elif type(temp) is str:\n",
    "            count_str = count_str +1\n",
    "            #print \"String\"\n",
    "        elif type(temp) is tuple:\n",
    "            count_tuple = count_tuple +1\n",
    "            #print \"Tuple\"\n",
    "        elif type(temp) is dict:\n",
    "            count_dict =count_dict +1\n",
    "            #print \"Dictionary\"\n",
    "        elif type(temp) is bool:\n",
    "            count_bool =count_bool +1\n",
    "           # print \"Boolean\"\n",
    "        elif type(temp) is float:\n",
    "            count_float = count_float +1\n",
    "           # print \"Float\"\n",
    "          \n",
    "    if(count_int == 2):\n",
    "        print 'Integer :',count_int\n",
    "    if(count_str == 2):\n",
    "        print 'String :', count_str\n",
    "    if(count_tuple == 2):\n",
    "        print 'Tuple :',count_tuple\n",
    "    if(count_dict ==2):\n",
    "        print  'Dictonary :',count_dict\n",
    "    if(count_bool ==2):\n",
    "        print 'Boolean :',count_bool\n",
    "    if(count_float ==2):\n",
    "        print 'Float :',count_float\n",
    "    \n",
    "checking([5, \"Foo\", (2, 4, 5, 100), {\"fox\": \"mammal\"}, False, True, 2.987, \"Bar\"])\n",
    "\n",
    "# k=5\n",
    "# type(k) is int\n",
    "# l = \"Foo\"\n",
    "# type(l) is str\n",
    "# m = (2, 4, 5, 100)\n",
    "# type(m) is tuple\n",
    "# n = {\"fox\": \"mammal\"}\n",
    "# type(n) is dict\n",
    "# o = False\n",
    "# type(o) is bool\n",
    "# p =  2.987\n",
    "# type(p) is float\n",
    "\n",
    "\n"
   ]
  },
  {
   "cell_type": "markdown",
   "metadata": {},
   "source": [
    "### Intersection of Counts\n",
    "Given a 2 lists inputs with mixed element types (ie: _exampleinput), print types that have the same counts from each list.\n",
    "If there are more than one common types, print both out."
   ]
  },
  {
   "cell_type": "code",
   "execution_count": 61,
   "metadata": {
    "collapsed": false
   },
   "outputs": [
    {
     "name": "stdout",
     "output_type": "stream",
     "text": [
      "String : 2\n",
      "Dictonary : 2\n",
      "Boolean : 2\n",
      "Float : 1\n"
     ]
    }
   ],
   "source": [
    "\n",
    "def count_matching_quantities(input_1,input_2):\n",
    "    count_int_1 = 0\n",
    "    count_str_1 = 0\n",
    "    count_tuple_1 = 0\n",
    "    count_dict_1 = 0\n",
    "    count_bool_1 = 0\n",
    "    count_float_1 = 0\n",
    "    \n",
    "    count_int_2 = 0\n",
    "    count_str_2 = 0\n",
    "    count_tuple_2 = 0\n",
    "    count_dict_2 = 0\n",
    "    count_bool_2 = 0\n",
    "    count_float_2 = 0\n",
    "    #print input\n",
    "    for temp in input_1:\n",
    "        #print temp\n",
    "        if type(temp) is int:\n",
    "            count_int_1 = count_int_1 +1\n",
    "            #print \"integer\"\n",
    "        elif type(temp) is str:\n",
    "            count_str_1 = count_str_1 +1\n",
    "            #print \"String\"\n",
    "        elif type(temp) is tuple:\n",
    "            count_tuple_1 = count_tuple_1 +1\n",
    "            #print \"Tuple\"\n",
    "        elif type(temp) is dict:\n",
    "            count_dict_1 =count_dict_1 +1\n",
    "            #print \"Dictionary\"\n",
    "        elif type(temp) is bool:\n",
    "            count_bool_1 =count_bool_1 +1\n",
    "           # print \"Boolean\"\n",
    "        elif type(temp) is float:\n",
    "            count_float_1 = count_float_1+1\n",
    "           # print \"Float\"\n",
    "        \n",
    "    for temp in input_2:\n",
    "        #print temp\n",
    "        if type(temp) is int:\n",
    "            count_int_2 = count_int_2 +1\n",
    "            #print \"integer\"\n",
    "        elif type(temp) is str:\n",
    "            count_str_2= count_str_2 +1\n",
    "            #print \"String\"\n",
    "        elif type(temp) is tuple:\n",
    "            count_tuple_2 = count_tuple_2 +1\n",
    "            #print \"Tuple\"\n",
    "        elif type(temp) is dict:\n",
    "            count_dict_2 =count_dict_2 +1\n",
    "            #print \"Dictionary\"\n",
    "        elif type(temp) is bool:\n",
    "            count_bool_2=count_bool_2 +1\n",
    "           # print \"Boolean\"\n",
    "        elif type(temp) is float:\n",
    "            count_float_2 = count_float_2+1\n",
    "           # print \"Float\"\n",
    "          \n",
    "    if(count_int_1 == count_int_2):\n",
    "        print 'Integer :',count_int_1\n",
    "    if(count_str_1 == count_str_2):\n",
    "        print 'String :', count_str_1\n",
    "    if(count_tuple_1 == count_tuple_2):\n",
    "        print 'Tuple :',count_tuple_1\n",
    "    if(count_dict_1 ==count_dict_2):\n",
    "        print  'Dictonary :',count_dict_1\n",
    "    if(count_bool_1 ==count_bool_2):\n",
    "        print 'Boolean :',count_bool_1\n",
    "    if(count_float_1 == count_float_2):\n",
    "        print 'Float :',count_float_1\n",
    "    \n",
    "count_matching_quantities([5, \"Foo\", (2, 4, 5, 100), {\"monkey\": \"mammal\"}, False, True, 2.987, \"Bar\", {\"snake\": \"reptile\"}],[\"335\", False, True, \"Maybe\", 105.3, {\"kiefer\": \"nerd\"}, {234: \"value\"}])   "
   ]
  }
 ],
 "metadata": {
  "anaconda-cloud": {},
  "kernelspec": {
   "display_name": "Python [conda root]",
   "language": "python",
   "name": "conda-root-py"
  },
  "language_info": {
   "codemirror_mode": {
    "name": "ipython",
    "version": 2
   },
   "file_extension": ".py",
   "mimetype": "text/x-python",
   "name": "python",
   "nbconvert_exporter": "python",
   "pygments_lexer": "ipython2",
   "version": "2.7.12"
  }
 },
 "nbformat": 4,
 "nbformat_minor": 2
}
